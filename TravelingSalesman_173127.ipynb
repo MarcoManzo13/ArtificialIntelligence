{
  "nbformat": 4,
  "nbformat_minor": 0,
  "metadata": {
    "colab": {
      "provenance": []
    },
    "kernelspec": {
      "name": "python3",
      "display_name": "Python 3"
    },
    "language_info": {
      "name": "python"
    }
  },
  "cells": [
    {
      "cell_type": "markdown",
      "source": [
        "# Marco Antonio Manzo Ruiz\n",
        "# 173127\n",
        "#Artificial Intelligence\n",
        "#08/05/2023\n",
        "#Traveling Salesman Problem resolved using a Genetic Algorithm"
      ],
      "metadata": {
        "id": "F3Bag55-SmTq"
      }
    },
    {
      "cell_type": "markdown",
      "source": [
        "# Import the necessary libraries."
      ],
      "metadata": {
        "id": "V5lHEc5cS01z"
      }
    },
    {
      "cell_type": "code",
      "execution_count": 386,
      "metadata": {
        "id": "mHMJCVY9R5It"
      },
      "outputs": [],
      "source": [
        "import networkx as nx\n",
        "import matplotlib.pyplot as plt\n",
        "import random"
      ]
    },
    {
      "cell_type": "markdown",
      "source": [
        "# Create the graph by adding edges between nodes."
      ],
      "metadata": {
        "id": "A9pMAzBZTBDP"
      }
    },
    {
      "cell_type": "code",
      "source": [
        "# Creating the graph\n",
        "graph = nx.Graph()\n",
        "\n",
        "# Adding the cities as nodes\n",
        "graph.add_nodes_from(['Amsterdam', 'Berlin', 'Cologne', 'London', 'Brussels', 'Frankfurt', 'Paris', 'Lyon', 'Milan', 'Rome', 'Barcelona', 'Madrid'])\n",
        "\n",
        "# Adding the weighted edges with two attributes each (Time and Cost)\n",
        "\n",
        "# From Amsterdan\n",
        "graph.add_edge(\"Amsterdam\", \"Berlin\", time=364, cost=235)\n",
        "graph.add_edge(\"Amsterdam\", \"Cologne\", time=120, cost=40)\n",
        "graph.add_edge(\"Amsterdam\", \"Brussels\", time=105, cost=48)\n",
        "\n",
        "# From Berlin\n",
        "graph.add_edge(\"Berlin\", \"Amsterdam\", time=364, cost=235)\n",
        "graph.add_edge(\"Berlin\", \"Frankfurt\", time=232, cost=125)\n",
        "\n",
        "# From Cologne\n",
        "graph.add_edge(\"Cologne\", \"Amsterdam\", time=120, cost=40)\n",
        "graph.add_edge(\"Cologne\", \"Frankfurt\", time=120, cost=40)\n",
        "\n",
        "# From Frankfurt\n",
        "graph.add_edge(\"Frankfurt\", \"Berlin\", time=232, cost=125)\n",
        "graph.add_edge(\"Frankfurt\", \"Cologne\", time=120, cost=40)\n",
        "graph.add_edge(\"Frankfurt\", \"Paris\", time=480, cost=345)\n",
        "graph.add_edge(\"Frankfurt\", \"Milan\", time=454, cost=240)\n",
        "\n",
        "# From Brussels\n",
        "graph.add_edge(\"Brussels\", \"Amsterdam\", time=105, cost=48)\n",
        "graph.add_edge(\"Brussels\", \"Paris\", time=82, cost=80)\n",
        "\n",
        "# From London\n",
        "graph.add_edge(\"London\", \"Paris\", time=136, cost=98)\n",
        "graph.add_edge(\"London\", \"Brussels\", time=136, cost=98)\n",
        "\n",
        "# From Paris\n",
        "graph.add_edge(\"Paris\", \"London\", time=136, cost=98)\n",
        "graph.add_edge(\"Paris\", \"Brussels\", time=82, cost=80)\n",
        "graph.add_edge(\"Paris\", \"Frankfurt\", time=480, cost=345)\n",
        "graph.add_edge(\"Paris\", \"Lyon\", time=112, cost=185)\n",
        "graph.add_edge(\"Paris\", \"Barcelona\", time=390, cost=400)\n",
        "graph.add_edge(\"Paris\", \"Madrid\", time=225, cost=380)\n",
        "\n",
        "# From Lyon\n",
        "graph.add_edge(\"Lyon\", \"Paris\", time=112, cost=185)\n",
        "graph.add_edge(\"Lyon\", \"Milan\", time=176, cost=180)\n",
        "graph.add_edge(\"Lyon\", \"Barcelona\", time=200, cost=320)\n",
        "\n",
        "# From Milan\n",
        "graph.add_edge(\"Milan\", \"Frankfurt\", time=454, cost=240)\n",
        "graph.add_edge(\"Milan\", \"Rome\", time=168, cost=125)\n",
        "graph.add_edge(\"Milan\", \"Lyon\", time=176, cost=180)\n",
        "\n",
        "# From Barcelona\n",
        "graph.add_edge(\"Barcelona\", \"Paris\", time=390, cost=400)\n",
        "graph.add_edge(\"Barcelona\", \"Lyon\", time=200, cost=320)\n",
        "graph.add_edge(\"Barcelona\", \"Madrid\", time=150, cost=98)\n",
        "\n",
        "# From Madrid\n",
        "graph.add_edge(\"Madrid\", \"Paris\", time=225, cost=380)\n",
        "graph.add_edge(\"Madrid\", \"Barcelona\", time=150, cost=98)"
      ],
      "metadata": {
        "id": "qEyc-5BjTFA4"
      },
      "execution_count": 387,
      "outputs": []
    },
    {
      "cell_type": "markdown",
      "source": [
        "# Set up the positions of the nodes in the graph."
      ],
      "metadata": {
        "id": "YE-2LBp4fEw6"
      }
    },
    {
      "cell_type": "code",
      "source": [
        "# We create a positions dictionary to place every node in a determined position\n",
        "position = {\n",
        "        \"London\": (0, 6),\n",
        "        \"Madrid\": (0, 0),\n",
        "        \"Paris\": (0.5, 4),\n",
        "        \"Barcelona\": (1, 1),\n",
        "        \"Brussels\": (1.5, 5),\n",
        "        \"Amsterdam\": (2.5, 7),\n",
        "        \"Lyon\": (2.5, 2.5),\n",
        "        \"Cologne\": (3, 5.5),\n",
        "        \"Frankfurt\": (4, 5),\n",
        "        \"Milan\": (4, 2.5),\n",
        "        \"Berlin\": (5, 7),\n",
        "        \"Rome\": (5, 1),\n",
        "      }"
      ],
      "metadata": {
        "id": "drV3YJ-MfEUj"
      },
      "execution_count": 388,
      "outputs": []
    },
    {
      "cell_type": "markdown",
      "source": [
        "# Draw the previously created Graph."
      ],
      "metadata": {
        "id": "Ur3_xwzyfrMQ"
      }
    },
    {
      "cell_type": "code",
      "source": [
        "# Creating the edge labels\n",
        "edge_labels = {}\n",
        "for u, v, data in graph.edges(data=True):\n",
        "    edge_labels[u, v] = f\"${data['cost']}\\n\\n{data['time']}h\"\n",
        "\n",
        "# Set the figure size\n",
        "plt.figure(figsize=(15, 7))\n",
        "\n",
        "# Drawing the graph\n",
        "nx.draw(graph, position, with_labels=True, node_color='green', font_weight='bold', font_size=10, font_color='white', node_size=8000)\n",
        "\n",
        "# Adding the weigths to every edge\n",
        "nx.draw_networkx_edge_labels(graph, position, edge_labels=edge_labels, font_size=8, font_weight='light')\n",
        "\n",
        "# Print the graph\n",
        "plt.show()"
      ],
      "metadata": {
        "colab": {
          "base_uri": "https://localhost:8080/",
          "height": 736
        },
        "id": "cRYHSoNkfs-V",
        "outputId": "83924ec9-9ea6-42bf-c030-b8284d001f87"
      },
      "execution_count": 389,
      "outputs": [
        {
          "output_type": "display_data",
          "data": {
            "text/plain": [
              "<Figure size 1500x700 with 1 Axes>"
            ],
            "image/png": "[encoded data removed]"
          },
          "metadata": {}
        }
      ]
    },
    {
      "cell_type": "markdown",
      "source": [
        "# Create the fitness function."
      ],
      "metadata": {
        "id": "wuYw8Erbi3m2"
      }
    },
    {
      "cell_type": "code",
      "source": [
        "def fitnessFunction(circuit):\n",
        "    # Checks if the given circuit is valid by iterating through each node and \n",
        "    # checking if there is an edge connecting it to the next node in the circuit\n",
        "    for i in range(len(circuit)-1):\n",
        "      try:\n",
        "        edge = graph[circuit[i]][circuit[i+1]]\n",
        "      except:\n",
        "        return -1\n",
        "\n",
        "    # Calculate the cost of the Circuits (shorter circuits will have higher \n",
        "    # fitness scores than longer circuits)\n",
        "    cost = 1/sum(graph[circuit[i]][circuit[i+1]]['cost'] for i in range(len(circuit)-1))\n",
        "    \n",
        "    # Calculate the number of unique nodes in the circuit (The nodes that were \n",
        "    # only visited once)\n",
        "    uniqueNodes = len(set(circuit))\n",
        "\n",
        "    # Sum of the cost and the number of unique nodes as the fitness score for \n",
        "    # the given circuit\n",
        "    return cost + uniqueNodes"
      ],
      "metadata": {
        "id": "ZjB7dw26i5d_"
      },
      "execution_count": 390,
      "outputs": []
    },
    {
      "cell_type": "markdown",
      "source": [
        "# Function to generate the circuit which the population will have to go through."
      ],
      "metadata": {
        "id": "dSJ3854Qh_qI"
      }
    },
    {
      "cell_type": "code",
      "source": [
        "def generateCircuit():\n",
        "    # Start at a random node\n",
        "    currentNode = random.choice(list(graph.nodes()))\n",
        "\n",
        "    # Initialize the variables of the circuit, cost and time\n",
        "    circuit = [currentNode]\n",
        "    cost = 0\n",
        "    time = 0\n",
        "\n",
        "    # Go through the graph until the time limit is done or no more close nodes \n",
        "    # are available\n",
        "    unique = 0\n",
        "    while time < 4320:\n",
        "      # Get the neighbors of the current node\n",
        "      neighborsNodes = list(graph[currentNode])\n",
        "\n",
        "      # Choose a random neighbor\n",
        "      nextNode = random.choice(neighborsNodes)\n",
        "\n",
        "      # Update the circuit, cost and time\n",
        "      circuit.append(nextNode)\n",
        "      edge = graph[currentNode][nextNode]\n",
        "      cost += edge['cost']\n",
        "      time += edge['time']\n",
        "      \n",
        "      # Move to the next node\n",
        "      currentNode = nextNode\n",
        "    return circuit, time, cost"
      ],
      "metadata": {
        "id": "S8m1IIs0iDjh"
      },
      "execution_count": 391,
      "outputs": []
    },
    {
      "cell_type": "markdown",
      "source": [
        "# Create a \"Gen\" that sorts the two best circuits according to the fitness score value."
      ],
      "metadata": {
        "id": "8wbLT4JNlgOi"
      }
    },
    {
      "cell_type": "code",
      "source": [
        "# Find the two best circuits with the highest fitness scores \n",
        "def sortingGen(circuits):\n",
        "    # Sort the circuits\n",
        "    sortedBestCircuits = sorted(circuits, key=lambda x: x['fitnessScore'], reverse = True)\n",
        "\n",
        "    # Return the sorted list of the circuits with the highest fitness scores\n",
        "    return sortedBestCircuits"
      ],
      "metadata": {
        "id": "E4MuqRQNlXJt"
      },
      "execution_count": 392,
      "outputs": []
    },
    {
      "cell_type": "markdown",
      "source": [
        "# Create an individual circuit fot the travelling salesman."
      ],
      "metadata": {
        "id": "PBkmojlokpBc"
      }
    },
    {
      "cell_type": "code",
      "source": [
        "def createIndividualCircuit():\n",
        "    circuit, cost, time = generateCircuit()\n",
        "    fitnessScore = fitnessFunction(circuit)\n",
        "    circuitDictionary = {'circuit': circuit, 'cost': cost, 'time': time, 'fitnessScore': fitnessScore}\n",
        "    return circuitDictionary"
      ],
      "metadata": {
        "id": "6-mqXhnvkoMT"
      },
      "execution_count": 393,
      "outputs": []
    },
    {
      "cell_type": "markdown",
      "source": [
        "# Create the first generation of individuals in the population."
      ],
      "metadata": {
        "id": "dY2z51MblLUu"
      }
    },
    {
      "cell_type": "code",
      "source": [
        "def firstGeneration(genSize):\n",
        "  population = []\n",
        "  for i in range(genSize):\n",
        "      circuit = createIndividualCircuit()\n",
        "      population.append(circuit)\n",
        "  return population"
      ],
      "metadata": {
        "id": "gwPgXbFalOa7"
      },
      "execution_count": 394,
      "outputs": []
    },
    {
      "cell_type": "markdown",
      "source": [
        "# Function that calculates the cost and time taken for the circuits."
      ],
      "metadata": {
        "id": "zNBI7xT3l9h9"
      }
    },
    {
      "cell_type": "code",
      "source": [
        "def calculateCostTime(circuit):\n",
        "    # Initialize the cost and time counters\n",
        "    incurredCost = 0\n",
        "    elapsedTime = 0\n",
        "    \n",
        "    # Iterate over each node in the circuit, calculating the cost and time\n",
        "    # required to travel to the next node.\n",
        "    for i in range(len(circuit)-1):\n",
        "        # Try to retrieve the edge between the current node and the next\n",
        "        # node in the circuit.\n",
        "        try:\n",
        "            edge = graph[circuit[i]][circuit[i+1]]\n",
        "        # If the edge does not exist, return a cost and time of 0 to indicate\n",
        "        # an invalid circuit.\n",
        "        except:\n",
        "            return 0, 0\n",
        "\n",
        "        # Increment the total incurred cost and elapsed time by the cost and\n",
        "        # time of the current edge, respectively.\n",
        "        incurredCost += edge['cost']\n",
        "        elapsedTime += edge['time']\n",
        "      \n",
        "    # Return the total incurred cost and elapsed time as a tuple.\n",
        "    return incurredCost, elapsedTime"
      ],
      "metadata": {
        "id": "npedhAN8mAXj"
      },
      "execution_count": 395,
      "outputs": []
    },
    {
      "cell_type": "markdown",
      "source": [
        "# Create a crossover function, in this case, a two-point crossover function."
      ],
      "metadata": {
        "id": "Ogd5y8PCUDKd"
      }
    },
    {
      "cell_type": "code",
      "source": [
        "# Each parameter of this function should be a dictionary with the circuit of the individual\n",
        "def crossoverFunction(circuit1, circuit2):\n",
        "    # Get the circuits from the individuals and choose two random crossover points\n",
        "    crossover_points = sorted(random.sample(range(1, len(circuit1)), 2))\n",
        "    \n",
        "    # Create the new circuits by swapping the segments between the crossover points\n",
        "    newCircuit1 = circuit1['circuit'][:crossover_points[0]] + circuit2['circuit'][crossover_points[0]:crossover_points[1]] + circuit1['circuit'][crossover_points[1]:]\n",
        "    newCircuit2 = circuit2['circuit'][:crossover_points[0]] + circuit1['circuit'][crossover_points[0]:crossover_points[1]] + circuit2['circuit'][crossover_points[1]:]\n",
        "    \n",
        "    # Create the new individuals with the new circuits\n",
        "    crossoverIndividual1 = {'circuit': newCircuit1, 'time': 0, 'cost': 0, 'fitnessScore': 0}\n",
        "    crossoverIndividual2 = {'circuit': newCircuit2, 'time': 0, 'cost': 0, 'fitnessScore': 0}\n",
        "    \n",
        "    # Calculate the cost and time for the new individuals\n",
        "    crossoverIndividual1['time'], crossoverIndividual1['cost'] = calculateCostTime(newCircuit1)\n",
        "    crossoverIndividual2['time'], crossoverIndividual2['cost'] = calculateCostTime(newCircuit2)\n",
        "    \n",
        "    # Calculate the fitness value for the new individuals\n",
        "    crossoverIndividual1['fitnessScore'] = fitnessFunction(newCircuit1)\n",
        "    crossoverIndividual2['fitnessScore'] = fitnessFunction(newCircuit2)\n",
        "    \n",
        "    return crossoverIndividual1, crossoverIndividual2"
      ],
      "metadata": {
        "id": "7QyK9hnumwi-"
      },
      "execution_count": 396,
      "outputs": []
    },
    {
      "cell_type": "markdown",
      "source": [
        "# Create the next generation by breeding the previous generation and returning the best of them by implementing elitism."
      ],
      "metadata": {
        "id": "AJ_m-PA5W6Tw"
      }
    },
    {
      "cell_type": "code",
      "source": [
        "# Creating the next generation + best individuals from previous generation\n",
        "def breedIndividuals(matingPool, eliteSize):\n",
        "    # Create an empty list to hold the next generation of individuals\n",
        "    nextGeneration = []\n",
        "    \n",
        "    # Calculate the number of new children to be created\n",
        "    newChildren = len(matingPool) - eliteSize\n",
        "\n",
        "    # Add the top eliteSize individuals from the current generation to the next\n",
        "    # generation\n",
        "    for i in range (0, eliteSize):\n",
        "        nextGeneration.append(matingPool[i])\n",
        "\n",
        "    # Breed new individuals until the desired number of children have been\n",
        "    # created\n",
        "    for i in range(0, newChildren, 2):\n",
        "        # Use the two-point crossover function to create two new children\n",
        "        # from two parent individuals\n",
        "        child1, child2 = crossoverFunction(matingPool[i], matingPool[i+1])\n",
        "\n",
        "        # Check if the new children have a valid fitness value\n",
        "        if child1['fitnessScore'] != 0:\n",
        "            nextGeneration.append(child1)\n",
        "          \n",
        "        if child2['fitnessScore'] != 0:\n",
        "            nextGeneration.append(child2)\n",
        "    \n",
        "    # Return the next generation of individuals\n",
        "    return nextGeneration"
      ],
      "metadata": {
        "id": "k4Oj3GJ0XARP"
      },
      "execution_count": 397,
      "outputs": []
    },
    {
      "cell_type": "markdown",
      "source": [
        "# Create the mutation function which chooses a random position in the circuit and swaps the city at that position with its neighbor."
      ],
      "metadata": {
        "id": "aELN5iJ2X1wY"
      }
    },
    {
      "cell_type": "code",
      "source": [
        "def neighborSwapIndividualMutation(circuit, mutationRate):\n",
        "    mutated = circuit\n",
        "    if random.uniform(0, 1) < mutationRate:\n",
        "        # Choose a random position in the circuit\n",
        "        position = random.randint(0, len(circuit['circuit']) - 2)\n",
        "\n",
        "        # Clear variables\n",
        "        mutated['time'] = 0\n",
        "        mutated['cost'] = 0\n",
        "        mutated['fitnessScore'] = 0\n",
        "\n",
        "        # Swap the city at the chosen position with its neighbor\n",
        "        mutated['circuit'][position], mutated['circuit'][position+1] = mutated['circuit'][position+1], mutated['circuit'][position]\n",
        "    \n",
        "        # Calculate the time and cost for the new individuals\n",
        "        mutated['time'], mutated['cost'] = calculateCostTime(mutated)\n",
        "        \n",
        "        # Calculate the fitness for the new individuals\n",
        "        mutated['fitnessScore'] = fitnessFunction(mutated)\n",
        "        \n",
        "    return mutated"
      ],
      "metadata": {
        "id": "6l_UQxmOX3K-"
      },
      "execution_count": 398,
      "outputs": []
    },
    {
      "cell_type": "markdown",
      "source": [
        "# Create a function that applies the mutation to the individuals and returns a list of them."
      ],
      "metadata": {
        "id": "WR4hpkTYYtkb"
      }
    },
    {
      "cell_type": "code",
      "source": [
        "def mutatePopulation(generation, mutationRate):\n",
        "  # Create an empty list for the mutated generation\n",
        "  mutatedGeneration = []\n",
        "\n",
        "  # Loop through each individual in the current generation\n",
        "  for i in range(0, len(generation)):\n",
        "    # Mutate the individual using the neighbor swap mutation function\n",
        "    mutatedIndividual = neighborSwapIndividualMutation(generation[i], mutationRate)\n",
        "    # Add the mutated individual to the mutated generation list\n",
        "    mutatedGeneration.append(mutatedIndividual)\n",
        "  \n",
        "  # Return the mutated generation\n",
        "  return mutatedGeneration"
      ],
      "metadata": {
        "id": "JkV-TrMKYgYr"
      },
      "execution_count": 399,
      "outputs": []
    },
    {
      "cell_type": "markdown",
      "source": [
        "# Create a function to generate the next generation of individuals."
      ],
      "metadata": {
        "id": "FcOdsuvEZbVX"
      }
    },
    {
      "cell_type": "code",
      "source": [
        "def nextGeneration(currentGeneration, eliteSize, mutationRate):\n",
        "    # Sort the current generation by fitness, highest to lowest\n",
        "    genRanked = sortingGen(currentGeneration)\n",
        "    \n",
        "    # Create new individuals through breeding from the top-performing\n",
        "    # individuals (eliteSize)\n",
        "    children = breedIndividuals(genRanked, eliteSize)\n",
        "    \n",
        "    # Mutate the new individuals to introduce variation into the population\n",
        "    nextGeneration = mutatePopulation(children, mutationRate)\n",
        "    \n",
        "    # Return the new generation\n",
        "    return nextGeneration"
      ],
      "metadata": {
        "id": "6gSYzb78Y_QC"
      },
      "execution_count": 400,
      "outputs": []
    },
    {
      "cell_type": "markdown",
      "source": [
        "# Create a function that runs the genetic algorithm."
      ],
      "metadata": {
        "id": "48xM-BMMZxfD"
      }
    },
    {
      "cell_type": "code",
      "source": [
        "def RunTSP(pupulationSize, eliteSize, mutationRate, numberGenerations): \n",
        "    # Iterate over the specified number of generations\n",
        "    for i in range(numberGenerations):\n",
        "        # Generate the next generation\n",
        "        population = nextGeneration(population, eliteSize, mutationRate)\n",
        "        \n",
        "        # Print the distance of the best route in the current generation\n",
        "        print(\"\\nFitness Score Value obtained by the best individual in the generation \", str(i+1), \": \", str(sortingGen(population)[0]['fitnessScore']))\n",
        "    \n",
        "    # Select the best individual from the final population\n",
        "    bestCircuit = sortingGen(population)[0]\n",
        "    \n",
        "    # Return the best route\n",
        "    return bestCircuit"
      ],
      "metadata": {
        "id": "xV2NJqFyZwPm"
      },
      "execution_count": 401,
      "outputs": []
    },
    {
      "cell_type": "markdown",
      "source": [
        "# Run the Genetic Algorithm."
      ],
      "metadata": {
        "id": "jT_A5UlHabe8"
      }
    },
    {
      "cell_type": "code",
      "source": [
        "print('\\nBest circuit: \\n', RunTSP(pupulationSize = 200, eliteSize = 10, mutationRate = 0.1, numberGenerations = 100))"
      ],
      "metadata": {
        "colab": {
          "base_uri": "https://localhost:8080/"
        },
        "id": "BxA3NYWaadxu",
        "outputId": "69dd3309-9e09-40b4-b7c2-35603918d146"
      },
      "execution_count": 403,
      "outputs": [
        {
          "output_type": "stream",
          "name": "stdout",
          "text": [
            "Initial distance: 12.000322164948454\n",
            "\n",
            "Fitness Score Value obtained by the best individual in the generation  1 :  12.000322164948454\n",
            "\n",
            "Fitness Score Value obtained by the best individual in the generation  2 :  12.000322164948454\n",
            "\n",
            "Fitness Score Value obtained by the best individual in the generation  3 :  12.000322164948454\n",
            "\n",
            "Fitness Score Value obtained by the best individual in the generation  4 :  12.000322164948454\n",
            "\n",
            "Fitness Score Value obtained by the best individual in the generation  5 :  12.000322164948454\n",
            "\n",
            "Fitness Score Value obtained by the best individual in the generation  6 :  12.000322164948454\n",
            "\n",
            "Fitness Score Value obtained by the best individual in the generation  7 :  12.000322164948454\n",
            "\n",
            "Fitness Score Value obtained by the best individual in the generation  8 :  12.000338753387535\n",
            "\n",
            "Fitness Score Value obtained by the best individual in the generation  9 :  12.000338753387535\n",
            "\n",
            "Fitness Score Value obtained by the best individual in the generation  10 :  12.000338753387535\n",
            "\n",
            "Fitness Score Value obtained by the best individual in the generation  11 :  12.000338753387535\n",
            "\n",
            "Fitness Score Value obtained by the best individual in the generation  12 :  12.000338753387535\n",
            "\n",
            "Fitness Score Value obtained by the best individual in the generation  13 :  12.000338753387535\n",
            "\n",
            "Fitness Score Value obtained by the best individual in the generation  14 :  12.000338753387535\n",
            "\n",
            "Fitness Score Value obtained by the best individual in the generation  15 :  12.000338753387535\n",
            "\n",
            "Fitness Score Value obtained by the best individual in the generation  16 :  12.000338753387535\n",
            "\n",
            "Fitness Score Value obtained by the best individual in the generation  17 :  12.000338753387535\n",
            "\n",
            "Fitness Score Value obtained by the best individual in the generation  18 :  12.000338753387535\n",
            "\n",
            "Fitness Score Value obtained by the best individual in the generation  19 :  12.000338753387535\n",
            "\n",
            "Fitness Score Value obtained by the best individual in the generation  20 :  12.000338753387535\n",
            "\n",
            "Fitness Score Value obtained by the best individual in the generation  21 :  12.000338753387535\n",
            "\n",
            "Fitness Score Value obtained by the best individual in the generation  22 :  12.000338753387535\n",
            "\n",
            "Fitness Score Value obtained by the best individual in the generation  23 :  12.000338753387535\n",
            "\n",
            "Fitness Score Value obtained by the best individual in the generation  24 :  12.000338753387535\n",
            "\n",
            "Fitness Score Value obtained by the best individual in the generation  25 :  12.000338753387535\n",
            "\n",
            "Fitness Score Value obtained by the best individual in the generation  26 :  12.000338753387535\n",
            "\n",
            "Fitness Score Value obtained by the best individual in the generation  27 :  12.000338753387535\n",
            "\n",
            "Fitness Score Value obtained by the best individual in the generation  28 :  12.000338753387535\n",
            "\n",
            "Fitness Score Value obtained by the best individual in the generation  29 :  12.000338753387535\n",
            "\n",
            "Fitness Score Value obtained by the best individual in the generation  30 :  12.000338753387535\n",
            "\n",
            "Fitness Score Value obtained by the best individual in the generation  31 :  12.000338753387535\n",
            "\n",
            "Fitness Score Value obtained by the best individual in the generation  32 :  12.000338753387535\n",
            "\n",
            "Fitness Score Value obtained by the best individual in the generation  33 :  12.000338753387535\n",
            "\n",
            "Fitness Score Value obtained by the best individual in the generation  34 :  12.000338753387535\n",
            "\n",
            "Fitness Score Value obtained by the best individual in the generation  35 :  12.000338753387535\n",
            "\n",
            "Fitness Score Value obtained by the best individual in the generation  36 :  12.000338753387535\n",
            "\n",
            "Fitness Score Value obtained by the best individual in the generation  37 :  12.000338753387535\n",
            "\n",
            "Fitness Score Value obtained by the best individual in the generation  38 :  12.000338753387535\n",
            "\n",
            "Fitness Score Value obtained by the best individual in the generation  39 :  12.000338753387535\n",
            "\n",
            "Fitness Score Value obtained by the best individual in the generation  40 :  12.000338753387535\n",
            "\n",
            "Fitness Score Value obtained by the best individual in the generation  41 :  12.000338753387535\n",
            "\n",
            "Fitness Score Value obtained by the best individual in the generation  42 :  12.000338753387535\n",
            "\n",
            "Fitness Score Value obtained by the best individual in the generation  43 :  12.000338753387535\n",
            "\n",
            "Fitness Score Value obtained by the best individual in the generation  44 :  12.000338753387535\n",
            "\n",
            "Fitness Score Value obtained by the best individual in the generation  45 :  12.000338753387535\n",
            "\n",
            "Fitness Score Value obtained by the best individual in the generation  46 :  12.000338753387535\n",
            "\n",
            "Fitness Score Value obtained by the best individual in the generation  47 :  12.000338753387535\n",
            "\n",
            "Fitness Score Value obtained by the best individual in the generation  48 :  12.000338753387535\n",
            "\n",
            "Fitness Score Value obtained by the best individual in the generation  49 :  12.000338753387535\n",
            "\n",
            "Fitness Score Value obtained by the best individual in the generation  50 :  12.000338753387535\n",
            "\n",
            "Fitness Score Value obtained by the best individual in the generation  51 :  12.000338753387535\n",
            "\n",
            "Fitness Score Value obtained by the best individual in the generation  52 :  12.000338753387535\n",
            "\n",
            "Fitness Score Value obtained by the best individual in the generation  53 :  12.000338753387535\n",
            "\n",
            "Fitness Score Value obtained by the best individual in the generation  54 :  12.000338753387535\n",
            "\n",
            "Fitness Score Value obtained by the best individual in the generation  55 :  12.000338753387535\n",
            "\n",
            "Fitness Score Value obtained by the best individual in the generation  56 :  12.000338753387535\n",
            "\n",
            "Fitness Score Value obtained by the best individual in the generation  57 :  12.000338753387535\n",
            "\n",
            "Fitness Score Value obtained by the best individual in the generation  58 :  12.000338753387535\n",
            "\n",
            "Fitness Score Value obtained by the best individual in the generation  59 :  12.000338753387535\n",
            "\n",
            "Fitness Score Value obtained by the best individual in the generation  60 :  12.000338753387535\n",
            "\n",
            "Fitness Score Value obtained by the best individual in the generation  61 :  12.000338753387535\n",
            "\n",
            "Fitness Score Value obtained by the best individual in the generation  62 :  12.000338753387535\n",
            "\n",
            "Fitness Score Value obtained by the best individual in the generation  63 :  12.000338753387535\n",
            "\n",
            "Fitness Score Value obtained by the best individual in the generation  64 :  12.000338753387535\n",
            "\n",
            "Fitness Score Value obtained by the best individual in the generation  65 :  12.000338753387535\n",
            "\n",
            "Fitness Score Value obtained by the best individual in the generation  66 :  12.000338753387535\n",
            "\n",
            "Fitness Score Value obtained by the best individual in the generation  67 :  12.000338753387535\n",
            "\n",
            "Fitness Score Value obtained by the best individual in the generation  68 :  12.000338753387535\n",
            "\n",
            "Fitness Score Value obtained by the best individual in the generation  69 :  12.000338753387535\n",
            "\n",
            "Fitness Score Value obtained by the best individual in the generation  70 :  12.000338753387535\n",
            "\n",
            "Fitness Score Value obtained by the best individual in the generation  71 :  12.000338753387535\n",
            "\n",
            "Fitness Score Value obtained by the best individual in the generation  72 :  12.000338753387535\n",
            "\n",
            "Fitness Score Value obtained by the best individual in the generation  73 :  12.000338753387535\n",
            "\n",
            "Fitness Score Value obtained by the best individual in the generation  74 :  12.000338753387535\n",
            "\n",
            "Fitness Score Value obtained by the best individual in the generation  75 :  12.000338753387535\n",
            "\n",
            "Fitness Score Value obtained by the best individual in the generation  76 :  12.000338753387535\n",
            "\n",
            "Fitness Score Value obtained by the best individual in the generation  77 :  12.000338753387535\n",
            "\n",
            "Fitness Score Value obtained by the best individual in the generation  78 :  12.000338753387535\n",
            "\n",
            "Fitness Score Value obtained by the best individual in the generation  79 :  12.000338753387535\n",
            "\n",
            "Fitness Score Value obtained by the best individual in the generation  80 :  12.000338753387535\n",
            "\n",
            "Fitness Score Value obtained by the best individual in the generation  81 :  12.000338753387535\n",
            "\n",
            "Fitness Score Value obtained by the best individual in the generation  82 :  12.000338753387535\n",
            "\n",
            "Fitness Score Value obtained by the best individual in the generation  83 :  12.000338753387535\n",
            "\n",
            "Fitness Score Value obtained by the best individual in the generation  84 :  12.000338753387535\n",
            "\n",
            "Fitness Score Value obtained by the best individual in the generation  85 :  12.000338753387535\n",
            "\n",
            "Fitness Score Value obtained by the best individual in the generation  86 :  12.000338753387535\n",
            "\n",
            "Fitness Score Value obtained by the best individual in the generation  87 :  12.000338753387535\n",
            "\n",
            "Fitness Score Value obtained by the best individual in the generation  88 :  12.000338753387535\n",
            "\n",
            "Fitness Score Value obtained by the best individual in the generation  89 :  12.000338753387535\n",
            "\n",
            "Fitness Score Value obtained by the best individual in the generation  90 :  12.000338753387535\n",
            "\n",
            "Fitness Score Value obtained by the best individual in the generation  91 :  12.000338753387535\n",
            "\n",
            "Fitness Score Value obtained by the best individual in the generation  92 :  12.000338753387535\n",
            "\n",
            "Fitness Score Value obtained by the best individual in the generation  93 :  12.000338753387535\n",
            "\n",
            "Fitness Score Value obtained by the best individual in the generation  94 :  12.000338753387535\n",
            "\n",
            "Fitness Score Value obtained by the best individual in the generation  95 :  12.000338753387535\n",
            "\n",
            "Fitness Score Value obtained by the best individual in the generation  96 :  12.000338753387535\n",
            "\n",
            "Fitness Score Value obtained by the best individual in the generation  97 :  12.000338753387535\n",
            "\n",
            "Fitness Score Value obtained by the best individual in the generation  98 :  12.000338753387535\n",
            "\n",
            "Fitness Score Value obtained by the best individual in the generation  99 :  12.000338753387535\n",
            "\n",
            "Fitness Score Value obtained by the best individual in the generation  100 :  12.000338753387535\n",
            "\n",
            "Best circuit: \n",
            " {'circuit': ['Madrid', 'Barcelona', 'Lyon', 'Milan', 'Rome', 'Milan', 'Frankfurt', 'Cologne', 'Frankfurt', 'Paris', 'London', 'Brussels', 'Amsterdam', 'Berlin', 'Frankfurt', 'Cologne', 'Frankfurt', 'Berlin', 'Frankfurt', 'Paris', 'Brussels', 'Paris'], 'time': 2952, 'cost': 4357, 'fitnessScore': 12.000338753387535}\n"
          ]
        }
      ]
    }
  ]
}